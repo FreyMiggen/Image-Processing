{
  "nbformat": 4,
  "nbformat_minor": 0,
  "metadata": {
    "colab": {
      "provenance": [],
      "authorship_tag": "ABX9TyP2aeYWm0gosqIO1vX3tKDl",
      "include_colab_link": true
    },
    "kernelspec": {
      "name": "python3",
      "display_name": "Python 3"
    },
    "language_info": {
      "name": "python"
    }
  },
  "cells": [
    {
      "cell_type": "markdown",
      "metadata": {
        "id": "view-in-github",
        "colab_type": "text"
      },
      "source": [
        "<a href=\"https://colab.research.google.com/github/FreyMiggen/Image-Processing/blob/main/Gaussian_Filter.ipynb\" target=\"_parent\"><img src=\"https://colab.research.google.com/assets/colab-badge.svg\" alt=\"Open In Colab\"/></a>"
      ]
    },
    {
      "cell_type": "code",
      "execution_count": null,
      "metadata": {
        "id": "Sfiv6rvxlHF9"
      },
      "outputs": [],
      "source": [
        "import numpy as np\n",
        "\n",
        "import math\n",
        "\n",
        "def help(m,n):\n",
        "    \n",
        "    filter=np.zeros((m*2+1,n*2+1,2))\n",
        "    center_h=m\n",
        "    center_w=n\n",
        "    for i in range(-m,m+1):\n",
        "        for j in range(-n,n+1):\n",
        "            filter[center_h-i][center_w-j]=[i,j]\n",
        "    return np.array(filter)\n",
        "\n",
        "def compute_smoothing_s(m,n,ns):\n",
        "    \n",
        "    filter=help(m,n)\n",
        "    filter_1=filter[:,:,0]\n",
        "    filter_2=filter[:,:,1]\n",
        "    spatial_1=np.square(filter_1)*(-0.5)*(1/ns**2)\n",
        "    spatial_2=np.square(filter_2)*(-0.5)*(1/ns**2)\n",
        "    spatial=spatial_1+spatial_2\n",
        "    spatial=np.exp(spatial)/(2*math.pi*ns**2)\n",
        "    return spatial\n",
        "\n",
        "gaussian=compute_smoothing_s(9,9,3)\n"
      ]
    },
    {
      "cell_type": "code",
      "source": [
        "gaussian=np.array(gaussian)\n",
        "gaussian.shape"
      ],
      "metadata": {
        "colab": {
          "base_uri": "https://localhost:8080/"
        },
        "id": "mPc1n9JDlgJF",
        "outputId": "90e2a5b4-982b-40a4-b11b-6315a7c571a8"
      },
      "execution_count": null,
      "outputs": [
        {
          "output_type": "execute_result",
          "data": {
            "text/plain": [
              "(19, 19)"
            ]
          },
          "metadata": {},
          "execution_count": 5
        }
      ]
    },
    {
      "cell_type": "code",
      "source": [
        "import matplotlib.pyplot as plt\n",
        "plt.imshow(gaussian/255.0)"
      ],
      "metadata": {
        "colab": {
          "base_uri": "https://localhost:8080/",
          "height": 282
        },
        "id": "UbBuyQEBmWSd",
        "outputId": "e637fd14-2191-473a-dcec-a8956713ec7b"
      },
      "execution_count": null,
      "outputs": [
        {
          "output_type": "execute_result",
          "data": {
            "text/plain": [
              "<matplotlib.image.AxesImage at 0x7f80f766b580>"
            ]
          },
          "metadata": {},
          "execution_count": 9
        },
        {
          "output_type": "display_data",
          "data": {
            "text/plain": [
              "<Figure size 432x288 with 1 Axes>"
            ],
            "image/png": "[encoded data removed]"
          },
          "metadata": {
            "needs_background": "light"
          }
        }
      ]
    }
  ]
}